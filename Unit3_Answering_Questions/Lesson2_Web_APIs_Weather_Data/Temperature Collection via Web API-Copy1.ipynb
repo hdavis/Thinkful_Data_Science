{
 "cells": [
  {
   "cell_type": "markdown",
   "metadata": {},
   "source": [
    "## Python script to collect the last 30 days of temperature data from a web API for select cities in the US"
   ]
  },
  {
   "cell_type": "markdown",
   "metadata": {},
   "source": [
    "The goal of the following code is to collect observed weather data from The Dark Sky Forcast API (https://developer.forecast.io/docs/v2#time_cal), store it in a SQLite database, perform summary calculations, visualize the results and write them to a .csv file."
   ]
  },
  {
   "cell_type": "markdown",
   "metadata": {},
   "source": [
    "Start by importing the necessary Python libraries"
   ]
  },
  {
   "cell_type": "code",
   "execution_count": 2,
   "metadata": {
    "collapsed": true,
    "scrolled": true
   },
   "outputs": [],
   "source": [
    "%matplotlib inline\n",
    "import datetime\n",
    "import requests\n",
    "import json\n",
    "import sqlite3 as lite\n",
    "import pandas as pd\n",
    "import plotly\n",
    "import plotly.graph_objs as go"
   ]
  },
  {
   "cell_type": "markdown",
   "metadata": {},
   "source": [
    "Create cities dictionary to include cities of interest and their locations"
   ]
  },
  {
   "cell_type": "code",
   "execution_count": 2,
   "metadata": {
    "collapsed": true,
    "scrolled": true
   },
   "outputs": [],
   "source": [
    "cities = {\"Atlanta\": '33.755960,-84.390304',\n",
    "          \"Austin\": '30.265327,-97.743788',\n",
    "          \"Boston\": '42.358056,-71.063611',\n",
    "          \"Denver\": '39.761850,-104.881105',\n",
    "          \"Los Angeles\": '34.050000,-118.250000',\n",
    "          \"Seattle\": '47.609722,-122.333056'\n",
    "          }"
   ]
  },
  {
   "cell_type": "markdown",
   "metadata": {},
   "source": [
    "Initialize a few key variables.  The start date is 30 days before now; \"num_days\" holds this 30-day value."
   ]
  },
  {
   "cell_type": "code",
   "execution_count": 3,
   "metadata": {
    "collapsed": true,
    "scrolled": true
   },
   "outputs": [],
   "source": [
    "num_days = 30\n",
    "start_date = datetime.datetime.now() - datetime.timedelta(days=num_days)\n",
    "APIKEY = \"2afe41b558da0181d1a9483c41f42df8\""
   ]
  },
  {
   "cell_type": "markdown",
   "metadata": {},
   "source": [
    "Create a connection object, \"con\", which is the connection to the SQLite database \"weather.db\". (If weather.db does not exist, SQLite3 will create it.)\n",
    "Once the connection object \"con\" has been created, use the .cursor method to create a cursor object, \"cur\", to manipulate tables in the \"weather.db\" database.\n",
    "If the \"temperature\" table exists in the \"weather.db\" database, drop it and create a new table to start fresh with an empty table."
   ]
  },
  {
   "cell_type": "code",
   "execution_count": 4,
   "metadata": {
    "collapsed": true,
    "scrolled": true
   },
   "outputs": [],
   "source": [
    "con = lite.connect('weather.db')\n",
    "with con:\n",
    "    cur = con.cursor()\n",
    "    cur.execute(\"DROP TABLE IF EXISTS temperature\")\n",
    "    cur.execute(\"CREATE TABLE temperature \\\n",
    "    (city text, tmax float, tmax_time integer)\")"
   ]
  },
  {
   "cell_type": "markdown",
   "metadata": {},
   "source": [
    "Next loop through all the cities in the \"cities\" dictionary, creating a properly formatted API request for that city for each day of data desired (30 days in this example).  Once the API request has been formatted, ping the API to get the data, select the data of interest (which is the maximum temperature for that day in this example) and store it in the \"weather.db\" database as well as a Pandas DataFrame, \"df\", to aid in future calculations.\n",
    "This process requires a loop within a loop.  The inner loop collects the data for a single city for each day of the period of interest, the past 30 days in this case.  The outer loop cycles through each of the cities. "
   ]
  },
  {
   "cell_type": "code",
   "execution_count": 5,
   "metadata": {
    "collapsed": false
   },
   "outputs": [],
   "source": [
    "for city_var, latLong in cities.iteritems():\n",
    "    \n",
    "    date = start_date     # initialize the date variable\n",
    "    \n",
    "    for i in range(0, num_days):  \n",
    "        date_str = (date.strftime('%Y') + '-' + date.strftime('%m') + '-' +\n",
    "                    date.strftime('%d') + 'T' + date.strftime('%H') + ':' +\n",
    "                    date.strftime('%M') + ':' + date.strftime('%S'))\n",
    "\n",
    "        url = ('https://api.forecast.io/forecast/' + APIKEY + '/' + latLong +\n",
    "               ',' + date_str)\n",
    "\n",
    "        r = requests.get(url)  # issue the request\n",
    "        response_dict = json.loads(r.text)\n",
    "\n",
    "        tmax_var = response_dict['daily']['data'][0]['temperatureMax']\n",
    "        tmax_time_var = response_dict['daily']['data'][0]['temperatureMaxTime']\n",
    "        \n",
    "        # convert time of max temperature from UNIX time to standard format\n",
    "        tmax_time_var_std = (datetime.datetime.fromtimestamp\n",
    "                             (int(tmax_time_var))\n",
    "                             .strftime('%Y-%m-%d %H:%M:%S'))\n",
    "\n",
    "        con = lite.connect('weather.db')\n",
    "        with con:\n",
    "            cur = con.cursor()\n",
    "            cur.execute(\"INSERT INTO temperature (city, tmax, tmax_time) \\\n",
    "            VALUES (?, ?, ?)\", (city_var, tmax_var, tmax_time_var_std))\n",
    "            cur.execute(\"SELECT * FROM temperature\")\n",
    "\n",
    "            # store all rows of data in the \"rows\" variable\n",
    "            rows = cur.fetchall()\n",
    "            \n",
    "            # get the column names from the cur.description attribute \n",
    "            # which are in the first position, the 0th spot.\n",
    "            cols = [desc[0] for desc in cur.description] \n",
    "            \n",
    "            df = pd.DataFrame(rows, columns=cols)\n",
    "\n",
    "        date = date + datetime.timedelta(days=1)"
   ]
  },
  {
   "cell_type": "markdown",
   "metadata": {},
   "source": [
    "Let's look at the first and last five rows of the data in the \"df\" DataFrame.  Each row is one day's worth of data; \"tmax\" is the maximum temperature for the day in degrees Fahrenheit; \"tmax_time\" is the date and time of the maximum temperature that day."
   ]
  },
  {
   "cell_type": "code",
   "execution_count": 6,
   "metadata": {
    "collapsed": false,
    "scrolled": true
   },
   "outputs": [
    {
     "data": {
      "text/html": [
       "<div>\n",
       "<table border=\"1\" class=\"dataframe\">\n",
       "  <thead>\n",
       "    <tr style=\"text-align: right;\">\n",
       "      <th></th>\n",
       "      <th>city</th>\n",
       "      <th>tmax</th>\n",
       "      <th>tmax_time</th>\n",
       "    </tr>\n",
       "  </thead>\n",
       "  <tbody>\n",
       "    <tr>\n",
       "      <th>0</th>\n",
       "      <td>Boston</td>\n",
       "      <td>85.10</td>\n",
       "      <td>2016-06-07 14:00:00</td>\n",
       "    </tr>\n",
       "    <tr>\n",
       "      <th>1</th>\n",
       "      <td>Boston</td>\n",
       "      <td>73.21</td>\n",
       "      <td>2016-06-08 12:00:00</td>\n",
       "    </tr>\n",
       "    <tr>\n",
       "      <th>2</th>\n",
       "      <td>Boston</td>\n",
       "      <td>66.70</td>\n",
       "      <td>2016-06-09 13:00:00</td>\n",
       "    </tr>\n",
       "    <tr>\n",
       "      <th>3</th>\n",
       "      <td>Boston</td>\n",
       "      <td>70.14</td>\n",
       "      <td>2016-06-10 16:00:00</td>\n",
       "    </tr>\n",
       "    <tr>\n",
       "      <th>4</th>\n",
       "      <td>Boston</td>\n",
       "      <td>67.71</td>\n",
       "      <td>2016-06-11 10:00:00</td>\n",
       "    </tr>\n",
       "  </tbody>\n",
       "</table>\n",
       "</div>"
      ],
      "text/plain": [
       "     city   tmax            tmax_time\n",
       "0  Boston  85.10  2016-06-07 14:00:00\n",
       "1  Boston  73.21  2016-06-08 12:00:00\n",
       "2  Boston  66.70  2016-06-09 13:00:00\n",
       "3  Boston  70.14  2016-06-10 16:00:00\n",
       "4  Boston  67.71  2016-06-11 10:00:00"
      ]
     },
     "execution_count": 6,
     "metadata": {},
     "output_type": "execute_result"
    }
   ],
   "source": [
    "df.head()"
   ]
  },
  {
   "cell_type": "code",
   "execution_count": 7,
   "metadata": {
    "collapsed": false,
    "scrolled": true
   },
   "outputs": [
    {
     "data": {
      "text/html": [
       "<div>\n",
       "<table border=\"1\" class=\"dataframe\">\n",
       "  <thead>\n",
       "    <tr style=\"text-align: right;\">\n",
       "      <th></th>\n",
       "      <th>city</th>\n",
       "      <th>tmax</th>\n",
       "      <th>tmax_time</th>\n",
       "    </tr>\n",
       "  </thead>\n",
       "  <tbody>\n",
       "    <tr>\n",
       "      <th>175</th>\n",
       "      <td>Austin</td>\n",
       "      <td>94.27</td>\n",
       "      <td>2016-07-02 15:00:00</td>\n",
       "    </tr>\n",
       "    <tr>\n",
       "      <th>176</th>\n",
       "      <td>Austin</td>\n",
       "      <td>95.80</td>\n",
       "      <td>2016-07-03 14:00:00</td>\n",
       "    </tr>\n",
       "    <tr>\n",
       "      <th>177</th>\n",
       "      <td>Austin</td>\n",
       "      <td>97.29</td>\n",
       "      <td>2016-07-04 13:00:00</td>\n",
       "    </tr>\n",
       "    <tr>\n",
       "      <th>178</th>\n",
       "      <td>Austin</td>\n",
       "      <td>96.44</td>\n",
       "      <td>2016-07-05 14:00:00</td>\n",
       "    </tr>\n",
       "    <tr>\n",
       "      <th>179</th>\n",
       "      <td>Austin</td>\n",
       "      <td>95.97</td>\n",
       "      <td>2016-07-06 14:00:00</td>\n",
       "    </tr>\n",
       "  </tbody>\n",
       "</table>\n",
       "</div>"
      ],
      "text/plain": [
       "       city   tmax            tmax_time\n",
       "175  Austin  94.27  2016-07-02 15:00:00\n",
       "176  Austin  95.80  2016-07-03 14:00:00\n",
       "177  Austin  97.29  2016-07-04 13:00:00\n",
       "178  Austin  96.44  2016-07-05 14:00:00\n",
       "179  Austin  95.97  2016-07-06 14:00:00"
      ]
     },
     "execution_count": 7,
     "metadata": {},
     "output_type": "execute_result"
    }
   ],
   "source": [
    "df.tail()"
   ]
  },
  {
   "cell_type": "markdown",
   "metadata": {},
   "source": [
    "Calculate summary statistics over the 30-day period and store in a new DataFrame, \"df_summary\"; separate the latitude and longitude into two columns instead of one, converting them from strings to floats; then write the DataFrame to a .csv file called \"summary.csv\"."
   ]
  },
  {
   "cell_type": "code",
   "execution_count": 8,
   "metadata": {
    "collapsed": true,
    "scrolled": true
   },
   "outputs": [],
   "source": [
    "df_summary = pd.DataFrame(columns=('city', 'long', 'lat', 'max_tmax',\n",
    "                                   'min_tmax', 'range_tmax', 'mean_tmax',\n",
    "                                   'sd_tmax'))\n",
    "\n",
    "df_summary['max_tmax'] = df.groupby('city')['tmax'].max()\n",
    "df_summary['min_tmax'] = df.groupby('city')['tmax'].min()\n",
    "df_summary['mean_tmax'] = df.groupby('city')['tmax'].mean()\n",
    "df_summary['sd_tmax'] = df.groupby('city')['tmax'].std()\n",
    "df_summary['range_tmax'] = df_summary['max_tmax'] - df_summary['min_tmax']\n",
    "df_summary['city'] = df_summary.index\n",
    "\n",
    "for k, v in cities.iteritems():\n",
    "    location = tuple(float(x) for x in v.split(','))\n",
    "    df_summary.set_value(k,'lat',location[0])\n",
    "    df_summary.set_value(k,'long',location[1])\n",
    "    \n",
    "df_summary.to_csv('summary.csv', index=False)"
   ]
  },
  {
   "cell_type": "markdown",
   "metadata": {},
   "source": [
    "Let's look at the \"df_summary\" DataFrame. Since there are only six cities, we can look at all of the rows, not just the first five."
   ]
  },
  {
   "cell_type": "code",
   "execution_count": 9,
   "metadata": {
    "collapsed": false,
    "scrolled": true
   },
   "outputs": [
    {
     "data": {
      "text/html": [
       "<div>\n",
       "<table border=\"1\" class=\"dataframe\">\n",
       "  <thead>\n",
       "    <tr style=\"text-align: right;\">\n",
       "      <th></th>\n",
       "      <th>city</th>\n",
       "      <th>long</th>\n",
       "      <th>lat</th>\n",
       "      <th>max_tmax</th>\n",
       "      <th>min_tmax</th>\n",
       "      <th>range_tmax</th>\n",
       "      <th>mean_tmax</th>\n",
       "      <th>sd_tmax</th>\n",
       "    </tr>\n",
       "    <tr>\n",
       "      <th>city</th>\n",
       "      <th></th>\n",
       "      <th></th>\n",
       "      <th></th>\n",
       "      <th></th>\n",
       "      <th></th>\n",
       "      <th></th>\n",
       "      <th></th>\n",
       "      <th></th>\n",
       "    </tr>\n",
       "  </thead>\n",
       "  <tbody>\n",
       "    <tr>\n",
       "      <th>Atlanta</th>\n",
       "      <td>Atlanta</td>\n",
       "      <td>-84.3903</td>\n",
       "      <td>33.756</td>\n",
       "      <td>97.33</td>\n",
       "      <td>80.02</td>\n",
       "      <td>17.31</td>\n",
       "      <td>90.435333</td>\n",
       "      <td>4.096156</td>\n",
       "    </tr>\n",
       "    <tr>\n",
       "      <th>Austin</th>\n",
       "      <td>Austin</td>\n",
       "      <td>-97.7438</td>\n",
       "      <td>30.2653</td>\n",
       "      <td>97.29</td>\n",
       "      <td>84.40</td>\n",
       "      <td>12.89</td>\n",
       "      <td>93.148333</td>\n",
       "      <td>2.476669</td>\n",
       "    </tr>\n",
       "    <tr>\n",
       "      <th>Boston</th>\n",
       "      <td>Boston</td>\n",
       "      <td>-71.0636</td>\n",
       "      <td>42.3581</td>\n",
       "      <td>89.23</td>\n",
       "      <td>66.70</td>\n",
       "      <td>22.53</td>\n",
       "      <td>77.677000</td>\n",
       "      <td>5.429691</td>\n",
       "    </tr>\n",
       "    <tr>\n",
       "      <th>Denver</th>\n",
       "      <td>Denver</td>\n",
       "      <td>-104.881</td>\n",
       "      <td>39.7619</td>\n",
       "      <td>96.47</td>\n",
       "      <td>72.37</td>\n",
       "      <td>24.10</td>\n",
       "      <td>84.820333</td>\n",
       "      <td>6.576071</td>\n",
       "    </tr>\n",
       "    <tr>\n",
       "      <th>Los Angeles</th>\n",
       "      <td>Los Angeles</td>\n",
       "      <td>-118.25</td>\n",
       "      <td>34.05</td>\n",
       "      <td>96.54</td>\n",
       "      <td>68.44</td>\n",
       "      <td>28.10</td>\n",
       "      <td>78.568667</td>\n",
       "      <td>6.935855</td>\n",
       "    </tr>\n",
       "    <tr>\n",
       "      <th>Seattle</th>\n",
       "      <td>Seattle</td>\n",
       "      <td>-122.333</td>\n",
       "      <td>47.6097</td>\n",
       "      <td>81.17</td>\n",
       "      <td>56.78</td>\n",
       "      <td>24.39</td>\n",
       "      <td>67.539667</td>\n",
       "      <td>5.287748</td>\n",
       "    </tr>\n",
       "  </tbody>\n",
       "</table>\n",
       "</div>"
      ],
      "text/plain": [
       "                    city     long      lat  max_tmax  min_tmax  range_tmax  \\\n",
       "city                                                                         \n",
       "Atlanta          Atlanta -84.3903   33.756     97.33     80.02       17.31   \n",
       "Austin            Austin -97.7438  30.2653     97.29     84.40       12.89   \n",
       "Boston            Boston -71.0636  42.3581     89.23     66.70       22.53   \n",
       "Denver            Denver -104.881  39.7619     96.47     72.37       24.10   \n",
       "Los Angeles  Los Angeles  -118.25    34.05     96.54     68.44       28.10   \n",
       "Seattle          Seattle -122.333  47.6097     81.17     56.78       24.39   \n",
       "\n",
       "             mean_tmax   sd_tmax  \n",
       "city                              \n",
       "Atlanta      90.435333  4.096156  \n",
       "Austin       93.148333  2.476669  \n",
       "Boston       77.677000  5.429691  \n",
       "Denver       84.820333  6.576071  \n",
       "Los Angeles  78.568667  6.935855  \n",
       "Seattle      67.539667  5.287748  "
      ]
     },
     "execution_count": 9,
     "metadata": {},
     "output_type": "execute_result"
    }
   ],
   "source": [
    "df_summary"
   ]
  },
  {
   "cell_type": "markdown",
   "metadata": {
    "collapsed": true,
    "scrolled": true
   },
   "source": [
    "To plot the data via box plots, each city's 30-days of data needs to be separated out into its own DataFrame."
   ]
  },
  {
   "cell_type": "code",
   "execution_count": 10,
   "metadata": {
    "collapsed": true,
    "scrolled": true
   },
   "outputs": [],
   "source": [
    "df_Atlanta = df[df.city == 'Atlanta']\n",
    "df_Austin = df[df.city == 'Austin']\n",
    "df_Boston = df[df.city == 'Boston']\n",
    "df_Denver = df[df.city == 'Denver']\n",
    "df_LosAngeles = df[df.city == 'Los Angeles']\n",
    "df_Seattle = df[df.city == 'Seattle']"
   ]
  },
  {
   "cell_type": "markdown",
   "metadata": {},
   "source": [
    "Create a box plot for each city using the plotly library."
   ]
  },
  {
   "cell_type": "code",
   "execution_count": 1,
   "metadata": {
    "collapsed": false
   },
   "outputs": [
    {
     "ename": "NameError",
     "evalue": "name 'plotly' is not defined",
     "output_type": "error",
     "traceback": [
      "\u001b[0;31m---------------------------------------------------------------------------\u001b[0m",
      "\u001b[0;31mNameError\u001b[0m                                 Traceback (most recent call last)",
      "\u001b[0;32m<ipython-input-1-b2f874d99e53>\u001b[0m in \u001b[0;36m<module>\u001b[0;34m()\u001b[0m\n\u001b[0;32m----> 1\u001b[0;31m \u001b[0mplotly\u001b[0m\u001b[0;34m.\u001b[0m\u001b[0moffline\u001b[0m\u001b[0;34m.\u001b[0m\u001b[0minit_notebook_mode\u001b[0m\u001b[0;34m(\u001b[0m\u001b[0;34m)\u001b[0m\u001b[0;34m\u001b[0m\u001b[0m\n\u001b[0m\u001b[1;32m      2\u001b[0m \u001b[0;34m\u001b[0m\u001b[0m\n\u001b[1;32m      3\u001b[0m x_data = ['Atlanta',\n\u001b[1;32m      4\u001b[0m           \u001b[0;34m'Austin'\u001b[0m\u001b[0;34m,\u001b[0m\u001b[0;34m\u001b[0m\u001b[0m\n\u001b[1;32m      5\u001b[0m           \u001b[0;34m'Boston'\u001b[0m\u001b[0;34m,\u001b[0m\u001b[0;34m\u001b[0m\u001b[0m\n",
      "\u001b[0;31mNameError\u001b[0m: name 'plotly' is not defined"
     ]
    }
   ],
   "source": [
    "# plotly.offline.init_notebook_mode()\n",
    "\n",
    "x_data = ['Atlanta',\n",
    "          'Austin',\n",
    "          'Boston',\n",
    "          'Denver',\n",
    "          'Los Angeles',\n",
    "          # 'San Francisco',\n",
    "          'Seattle'\n",
    "          ]\n",
    "\n",
    "y_data = [df_Atlanta['tmax'],\n",
    "          df_Austin['tmax'],\n",
    "          df_Boston['tmax'],\n",
    "          df_Denver['tmax'],\n",
    "          df_LosAngeles['tmax'],\n",
    "          # df_SanFrancisco['tmax'],\n",
    "          df_Seattle['tmax']\n",
    "          ]\n",
    "\n",
    "colors = ['rgba(93, 164, 214, 0.5)',\n",
    "          'rgba(255, 144, 14, 0.5)',\n",
    "          'rgba(44, 160, 101, 0.5)',\n",
    "          'rgba(255, 65, 54, 0.5)',\n",
    "          'rgba(207, 114, 255, 0.5)',\n",
    "          'rgba(127, 96, 0, 0.5)']\n",
    "\n",
    "traces = []\n",
    "\n",
    "for xd, yd, cls in zip(x_data, y_data, colors):\n",
    "        traces.append(go.Box(\n",
    "            y=yd,\n",
    "            name=xd,\n",
    "            boxpoints='all',\n",
    "            jitter=0.5,\n",
    "            whiskerwidth=0.2,\n",
    "            fillcolor=cls,\n",
    "            marker=dict(\n",
    "                size=2,\n",
    "            ),\n",
    "            line=dict(width=1),\n",
    "        ))\n",
    "\n",
    "layout = go.Layout(\n",
    "    title='Maximum Daily Temperature (deg F) for the Last 30 Days',\n",
    "    yaxis=dict(\n",
    "        autorange=True,\n",
    "        showgrid=True,\n",
    "        zeroline=True,\n",
    "        dtick=5,\n",
    "        gridcolor='rgb(255, 255, 255)',\n",
    "        gridwidth=1,\n",
    "        zerolinecolor='rgb(255, 255, 255)',\n",
    "        zerolinewidth=2,\n",
    "    ),\n",
    "    margin=dict(\n",
    "        l=40,\n",
    "        r=30,\n",
    "        b=80,\n",
    "        t=100,\n",
    "    ),\n",
    "    paper_bgcolor='rgb(243, 243, 243)',\n",
    "    plot_bgcolor='rgb(243, 243, 243)',\n",
    "    showlegend=False\n",
    ")\n",
    "\n",
    "fig = go.Figure(data=traces, layout=layout)\n",
    "plotly.plotly.iplot(fig)"
   ]
  },
  {
   "cell_type": "code",
   "execution_count": 12,
   "metadata": {
    "collapsed": false
   },
   "outputs": [
    {
     "data": {
      "text/html": [
       "<div>\n",
       "<table border=\"1\" class=\"dataframe\">\n",
       "  <thead>\n",
       "    <tr style=\"text-align: right;\">\n",
       "      <th></th>\n",
       "      <th>city</th>\n",
       "      <th>long</th>\n",
       "      <th>lat</th>\n",
       "      <th>max_tmax</th>\n",
       "      <th>min_tmax</th>\n",
       "      <th>range_tmax</th>\n",
       "      <th>mean_tmax</th>\n",
       "      <th>sd_tmax</th>\n",
       "    </tr>\n",
       "    <tr>\n",
       "      <th>city</th>\n",
       "      <th></th>\n",
       "      <th></th>\n",
       "      <th></th>\n",
       "      <th></th>\n",
       "      <th></th>\n",
       "      <th></th>\n",
       "      <th></th>\n",
       "      <th></th>\n",
       "    </tr>\n",
       "  </thead>\n",
       "  <tbody>\n",
       "    <tr>\n",
       "      <th>Atlanta</th>\n",
       "      <td>Atlanta</td>\n",
       "      <td>-84.3903</td>\n",
       "      <td>33.756</td>\n",
       "      <td>97.33</td>\n",
       "      <td>80.02</td>\n",
       "      <td>17.31</td>\n",
       "      <td>90.435333</td>\n",
       "      <td>4.096156</td>\n",
       "    </tr>\n",
       "    <tr>\n",
       "      <th>Austin</th>\n",
       "      <td>Austin</td>\n",
       "      <td>-97.7438</td>\n",
       "      <td>30.2653</td>\n",
       "      <td>97.29</td>\n",
       "      <td>84.40</td>\n",
       "      <td>12.89</td>\n",
       "      <td>93.148333</td>\n",
       "      <td>2.476669</td>\n",
       "    </tr>\n",
       "    <tr>\n",
       "      <th>Boston</th>\n",
       "      <td>Boston</td>\n",
       "      <td>-71.0636</td>\n",
       "      <td>42.3581</td>\n",
       "      <td>89.23</td>\n",
       "      <td>66.70</td>\n",
       "      <td>22.53</td>\n",
       "      <td>77.677000</td>\n",
       "      <td>5.429691</td>\n",
       "    </tr>\n",
       "    <tr>\n",
       "      <th>Denver</th>\n",
       "      <td>Denver</td>\n",
       "      <td>-104.881</td>\n",
       "      <td>39.7619</td>\n",
       "      <td>96.47</td>\n",
       "      <td>72.37</td>\n",
       "      <td>24.10</td>\n",
       "      <td>84.820333</td>\n",
       "      <td>6.576071</td>\n",
       "    </tr>\n",
       "    <tr>\n",
       "      <th>Los Angeles</th>\n",
       "      <td>Los Angeles</td>\n",
       "      <td>-118.25</td>\n",
       "      <td>34.05</td>\n",
       "      <td>96.54</td>\n",
       "      <td>68.44</td>\n",
       "      <td>28.10</td>\n",
       "      <td>78.568667</td>\n",
       "      <td>6.935855</td>\n",
       "    </tr>\n",
       "    <tr>\n",
       "      <th>Seattle</th>\n",
       "      <td>Seattle</td>\n",
       "      <td>-122.333</td>\n",
       "      <td>47.6097</td>\n",
       "      <td>81.17</td>\n",
       "      <td>56.78</td>\n",
       "      <td>24.39</td>\n",
       "      <td>67.539667</td>\n",
       "      <td>5.287748</td>\n",
       "    </tr>\n",
       "  </tbody>\n",
       "</table>\n",
       "</div>"
      ],
      "text/plain": [
       "                    city     long      lat  max_tmax  min_tmax  range_tmax  \\\n",
       "city                                                                         \n",
       "Atlanta          Atlanta -84.3903   33.756     97.33     80.02       17.31   \n",
       "Austin            Austin -97.7438  30.2653     97.29     84.40       12.89   \n",
       "Boston            Boston -71.0636  42.3581     89.23     66.70       22.53   \n",
       "Denver            Denver -104.881  39.7619     96.47     72.37       24.10   \n",
       "Los Angeles  Los Angeles  -118.25    34.05     96.54     68.44       28.10   \n",
       "Seattle          Seattle -122.333  47.6097     81.17     56.78       24.39   \n",
       "\n",
       "             mean_tmax   sd_tmax  \n",
       "city                              \n",
       "Atlanta      90.435333  4.096156  \n",
       "Austin       93.148333  2.476669  \n",
       "Boston       77.677000  5.429691  \n",
       "Denver       84.820333  6.576071  \n",
       "Los Angeles  78.568667  6.935855  \n",
       "Seattle      67.539667  5.287748  "
      ]
     },
     "execution_count": 12,
     "metadata": {},
     "output_type": "execute_result"
    }
   ],
   "source": [
    "df_summary # to see the summary data next to the plots (hover over plots for more stats)"
   ]
  },
  {
   "cell_type": "markdown",
   "metadata": {},
   "source": [
    "If you have not run the code above yourself, it should show data from the 30 days between June 7, 2016 and July 6, 2016 inclusive.  \n",
    "\n",
    "For this time period, the data show that the maximum daily temperature for Austin has the smallest fluctuation changing only 12.92 degrees over the 30-days compared to Los Angeles, which has the largest range of 28.10 degrees F (this includes a couple of points shown as outliers in the lavender box plot for Los Angeles).  \n",
    "\n",
    "Austin also has the highest mean maximum temperature over the period, indicating that not only is the maximum temperature relatively consistent, but also it just plain hot there. (The median max temperature - viewed by hovering over the box plot for Austin - is also the highest of all the cities studied.) \n",
    "\n",
    "Seattle has the lowest maximum daily temperatures of the six cities considered, which is not surprising given the generally cloudier and rainier climate of the Pacific Northwest."
   ]
  }
 ],
 "metadata": {
  "kernelspec": {
   "display_name": "Python 2",
   "language": "python",
   "name": "python2"
  },
  "language_info": {
   "codemirror_mode": {
    "name": "ipython",
    "version": 2
   },
   "file_extension": ".py",
   "mimetype": "text/x-python",
   "name": "python",
   "nbconvert_exporter": "python",
   "pygments_lexer": "ipython2",
   "version": "2.7.11"
  }
 },
 "nbformat": 4,
 "nbformat_minor": 0
}
